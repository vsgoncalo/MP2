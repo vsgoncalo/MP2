{
 "cells": [
  {
   "cell_type": "code",
   "execution_count": null,
   "metadata": {
    "scrolled": false
   },
   "outputs": [
    {
     "data": {
      "text/plain": [
       "<Figure size 432x288 with 0 Axes>"
      ]
     },
     "metadata": {},
     "output_type": "display_data"
    },
    {
     "data": {
      "image/png": "[encoded data removed]",
      "text/plain": [
       "<Figure size 432x288 with 1 Axes>"
      ]
     },
     "metadata": {},
     "output_type": "display_data"
    },
    {
     "name": "stdout",
     "output_type": "stream",
     "text": [
      "What are the most relevant actors in movie_key? \n",
      "What actors entered movie_key? \n",
      "Which characters were there on movie_key? \n",
      "What characters can be seen in movie_key? \n",
      "What are the languages spoken in movie_key? \n",
      "Who was the director of movie_key? \n",
      "Who starred in movie_key? \n",
      "What actor played the part of Jake Sully in movie_key? \n"
     ]
    }
   ],
   "source": [
    "import pandas as pd\n",
    "import numpy as np\n",
    "import matplotlib.pyplot as plt\n",
    "import re\n",
    "import random\n",
    "import nltk\n",
    "from nltk import FreqDist, pos_tag, ne_chunk\n",
    "from nltk.corpus import stopwords\n",
    "from nltk.tokenize import sent_tokenize, word_tokenize, PunktSentenceTokenizer\n",
    "from nltk.stem import WordNetLemmatizer\n",
    "from nltk.classify.scikitlearn import SklearnClassifier\n",
    "from nltk.classify import accuracy\n",
    "#from imblearn.over_sampling import SMOTE\n",
    "from sklearn.model_selection import train_test_split\n",
    "from sklearn.preprocessing import LabelEncoder\n",
    "from sklearn.neighbors import KNeighborsClassifier\n",
    "from sklearn.tree import DecisionTreeClassifier\n",
    "from sklearn.ensemble import RandomForestClassifier\n",
    "from sklearn.linear_model import LogisticRegression, SGDClassifier\n",
    "from sklearn.naive_bayes import MultinomialNB\n",
    "from sklearn.svm import SVC\n",
    "from sklearn.metrics import classification_report, accuracy_score, confusion_matrix\n",
    "\n",
    "df = pd.read_table('QuestoesConhecidas.txt', header=None, encoding = 'utf-8')\n",
    "nq = pd.read_table('NovasQuestoes.txt', header=None, encoding = 'utf-8')\n",
    "nqr = pd.read_table('NovasQuestoesResultados.txt', header=None, encoding = 'utf-8')\n",
    "char_list = pd.read_table('recursos/list_characters.txt', sep=\"\\n\", header=None, encoding = 'utf-8')\n",
    "company_list = pd.read_table('recursos/list_companies.txt', header=None, encoding = 'utf-8')\n",
    "genre_list = pd.read_table('recursos/list_genres.txt', header=None, encoding = 'utf-8')\n",
    "job_list = pd.read_table('recursos/list_jobs.txt', header=None, encoding = 'utf-8')\n",
    "keyword_list = pd.read_table('recursos/list_keywords.txt', header=None, encoding = 'utf-8')\n",
    "movie_list = pd.read_table('recursos/list_movies.txt', header=None, encoding = 'utf-8')\n",
    "people_list = pd.read_table('recursos/list_people.txt', sep=\"\\n\", header=None, encoding = 'utf-8')\n",
    "\n",
    "\n",
    "Y = df[0]\n",
    "X = df[1]\n",
    "nq = nq[0]\n",
    "nqr = nqr[0]\n",
    "\n",
    "classes = []\n",
    "all_words = []\n",
    "key_list = [char_list, company_list, genre_list, job_list, keyword_list,\n",
    "            movie_list, people_list]\n",
    "\n",
    "for key in key_list:\n",
    "    key = set(key[0])\n",
    "    \n",
    "key_dict = {\"movie_key\":movie_list , \"people_key\":people_list}\n",
    "\n",
    "lemmatizer = WordNetLemmatizer()\n",
    "stop_words = set(stopwords.words(\"english\"))\n",
    "tokenizer = PunktSentenceTokenizer()\n",
    "\n",
    "def remove_spaces(text):\n",
    "    return text.strip(' ')\n",
    "\n",
    "def clean_text(text):\n",
    "    text = text.lower()\n",
    "    text = re.sub(r\"what's\", \"what is \", text)\n",
    "    text = re.sub('\\W', ' ', text)\n",
    "    text = re.sub('\\s+', ' ', text)\n",
    "    text = text.strip(' ')\n",
    "    \n",
    "    return text\n",
    "\n",
    "def remove_stopwords(text):\n",
    "    filtered_text = []\n",
    "    for word in text:\n",
    "        if word not in stop_words:\n",
    "            filtered_text.append(word)\n",
    "    return filtered_text\n",
    "\n",
    "def lemmatize_words(text):\n",
    "    text = [lemmatizer.lemmatize(word) for word in text]\n",
    "    text = ' '.join(text)\n",
    "    return text\n",
    "\n",
    "\n",
    "def gather_all_words(text):\n",
    "    for words in text:\n",
    "        words = word_tokenize(words)\n",
    "        for word in words:\n",
    "            all_words.append(word)\n",
    "    return all_words\n",
    "\n",
    "def find_features(text):\n",
    "    features = {}\n",
    "    for word in word_features:\n",
    "        features[word] = (word in text)\n",
    "    return features\n",
    "\n",
    "def find_feature_set(data):\n",
    "    feature_set = []\n",
    "    for text, clss in data:\n",
    "        feature_set.append((find_features(text),clss))\n",
    "    return feature_set\n",
    "\n",
    "def replace_keyword(text):\n",
    "    for name, key in key_dict.items():\n",
    "        for val in key[0]:\n",
    "            if \"*\" in val:\n",
    "                val = val.replace('*','\\*')\n",
    "            if re.findall('\\\\b' + val + '\\\\b', text):\n",
    "                text = text.replace(val, name)  \n",
    "    print(text)\n",
    "    return text\n",
    "\n",
    "for _, item in Y.iteritems():\n",
    "    if item not in classes:\n",
    "        classes.append(item)\n",
    "                \n",
    "classes = list(map(remove_spaces, classes))\n",
    "#print(classes)\n",
    "\n",
    "plt.figure()\n",
    "df.groupby(0).count().plot.bar(ylim=0)\n",
    "plt.show()\n",
    "\n",
    "\n",
    "X = X.apply(lambda text : replace_keyword(text))\n",
    "X = X.apply(lambda text : clean_text(text))\n",
    "#print(X.head())\n",
    "X = X.apply(lambda text : word_tokenize(text))\n",
    "#print(X.head())\n",
    "X = X.apply(lambda text : remove_stopwords(text))\n",
    "#print(X.head())\n",
    "X = X.apply(lambda text : lemmatize_words(text))\n",
    "#print(X.head())\n",
    "\n",
    "gather_all_words(X)\n",
    "        \n",
    "all_words_fd = FreqDist(all_words)\n",
    "        \n",
    "#print(all_words)\n",
    "#print(all_words_fd)\n",
    "\n",
    "#print(X)\n",
    "\n",
    "word_features = list(all_words_fd.keys())\n",
    "#print(word_features)\n",
    "\n",
    "#features = find_features(X[0])\n",
    "#print(features)\n",
    "\n",
    "quest = list(zip(X, Y))\n",
    "\n",
    "np.random.seed = 1       #seed para repetição\n",
    "np.random.shuffle(quest) #shuffling para garantir que as classes não ficam agrupadas\n",
    "\n",
    "feature_set = find_feature_set(quest)\n",
    "#print(feature_set)\n",
    "#print(quest)\n",
    "\n",
    "nq = nq.apply(lambda text : replace_keyword(text))\n",
    "nq = nq.apply(lambda text : clean_text(text))\n",
    "#print(X.head())\n",
    "nq = nq.apply(lambda text : word_tokenize(text))\n",
    "#print(X.head())\n",
    "nq = nq.apply(lambda text : remove_stopwords(text))\n",
    "#print(X.head())\n",
    "nq = nq.apply(lambda text : lemmatize_words(text))\n",
    "#print(nqr)\n",
    "\n",
    "nq_feature_set = []\n",
    "for text in nq:\n",
    "    nq_feature_set.append(find_features(text))\n",
    "    \n",
    "#print(nq_feature_set)\n",
    "\n",
    "test = list(zip(nq, nqr))\n",
    "\n",
    "test_feature_set = find_feature_set(test)\n",
    "#print(test_feature_set)\n",
    "\n",
    "\n"
   ]
  },
  {
   "cell_type": "code",
   "execution_count": 8,
   "metadata": {},
   "outputs": [
    {
     "name": "stdout",
     "output_type": "stream",
     "text": [
      "K Nearest Neighbors accuracy : 85.71428571428571\n",
      "['actor_name ', 'character_name ', 'character_name ', 'spoken_language ', 'person_name ', 'actor_name ', 'character_name ', 'character_name ', 'spoken_language ', 'person_name ', 'overview ', 'actor_name ', 'actor_name ', 'actor_name ', 'character_name ', 'character_name ', 'spoken_language ', 'person_name ', 'person_name ', 'person_name ', 'actor_name ', 'actor_name ', 'actor_name ', 'character_name ', 'character_name ', 'spoken_language ', 'person_name ', 'person_name ', 'person_name ', 'actor_name ', 'character_name ', 'character_name ', 'spoken_language ', 'person_name ', 'actor_name ', 'character_name ', 'spoken_language ', 'person_name ', 'overview ', 'actor_name ', 'actor_name ', 'character_name ']\n",
      "Decision Tree accuracy : 88.09523809523809\n",
      "['actor_name ', 'character_name ', 'character_name ', 'spoken_language ', 'person_name ', 'original_title ', 'character_name ', 'character_name ', 'spoken_language ', 'person_name ', 'actor_name ', 'actor_name ', 'actor_name ', 'actor_name ', 'character_name ', 'character_name ', 'spoken_language ', 'person_name ', 'person_name ', 'person_name ', 'actor_name ', 'actor_name ', 'actor_name ', 'character_name ', 'character_name ', 'spoken_language ', 'person_name ', 'person_name ', 'person_name ', 'actor_name ', 'character_name ', 'character_name ', 'spoken_language ', 'person_name ', 'actor_name ', 'character_name ', 'spoken_language ', 'person_name ', 'actor_name ', 'actor_name ', 'actor_name ', 'character_name ']\n",
      "Random Forest accuracy : 88.09523809523809\n",
      "['actor_name ', 'character_name ', 'character_name ', 'spoken_language ', 'person_name ', 'original_title ', 'character_name ', 'character_name ', 'spoken_language ', 'person_name ', 'actor_name ', 'actor_name ', 'actor_name ', 'actor_name ', 'character_name ', 'character_name ', 'spoken_language ', 'person_name ', 'person_name ', 'person_name ', 'actor_name ', 'actor_name ', 'actor_name ', 'character_name ', 'character_name ', 'spoken_language ', 'person_name ', 'person_name ', 'person_name ', 'actor_name ', 'character_name ', 'character_name ', 'spoken_language ', 'person_name ', 'actor_name ', 'character_name ', 'spoken_language ', 'person_name ', 'actor_name ', 'actor_name ', 'actor_name ', 'character_name ']\n",
      "Logistic Regression accuracy : 90.47619047619048\n",
      "['actor_name ', 'character_name ', 'character_name ', 'spoken_language ', 'person_name ', 'actor_name ', 'character_name ', 'character_name ', 'spoken_language ', 'person_name ', 'actor_name ', 'actor_name ', 'actor_name ', 'actor_name ', 'character_name ', 'character_name ', 'spoken_language ', 'person_name ', 'person_name ', 'person_name ', 'actor_name ', 'actor_name ', 'actor_name ', 'character_name ', 'character_name ', 'spoken_language ', 'person_name ', 'person_name ', 'person_name ', 'actor_name ', 'character_name ', 'character_name ', 'spoken_language ', 'person_name ', 'actor_name ', 'character_name ', 'spoken_language ', 'person_name ', 'actor_name ', 'actor_name ', 'actor_name ', 'character_name ']\n",
      "SGD Classifier accuracy : 90.47619047619048\n",
      "['actor_name ', 'character_name ', 'character_name ', 'spoken_language ', 'person_name ', 'actor_name ', 'character_name ', 'character_name ', 'spoken_language ', 'person_name ', 'actor_name ', 'actor_name ', 'actor_name ', 'actor_name ', 'character_name ', 'character_name ', 'spoken_language ', 'person_name ', 'person_name ', 'person_name ', 'actor_name ', 'actor_name ', 'actor_name ', 'character_name ', 'character_name ', 'spoken_language ', 'person_name ', 'person_name ', 'person_name ', 'actor_name ', 'character_name ', 'character_name ', 'spoken_language ', 'person_name ', 'actor_name ', 'character_name ', 'spoken_language ', 'person_name ', 'actor_name ', 'actor_name ', 'actor_name ', 'character_name ']\n",
      "Naive Bayes accuracy : 83.33333333333334\n",
      "['actor_name ', 'character_name ', 'character_name ', 'spoken_language ', 'person_name ', 'actor_name ', 'character_name ', 'character_name ', 'spoken_language ', 'person_name ', 'actor_name ', 'actor_name ', 'actor_name ', 'actor_name ', 'character_name ', 'character_name ', 'spoken_language ', 'person_name ', 'person_name ', 'original_title ', 'actor_name ', 'actor_name ', 'actor_name ', 'character_name ', 'character_name ', 'spoken_language ', 'person_name ', 'person_name ', 'original_title ', 'actor_name ', 'character_name ', 'character_name ', 'spoken_language ', 'original_title ', 'actor_name ', 'character_name ', 'spoken_language ', 'person_name ', 'actor_name ', 'actor_name ', 'actor_name ', 'character_name ']\n",
      "SVM Linear accuracy : 88.09523809523809\n",
      "['actor_name ', 'character_name ', 'character_name ', 'spoken_language ', 'person_name ', 'original_title ', 'character_name ', 'character_name ', 'spoken_language ', 'person_name ', 'actor_name ', 'actor_name ', 'actor_name ', 'actor_name ', 'character_name ', 'character_name ', 'spoken_language ', 'person_name ', 'person_name ', 'person_name ', 'actor_name ', 'actor_name ', 'actor_name ', 'character_name ', 'character_name ', 'spoken_language ', 'person_name ', 'person_name ', 'person_name ', 'actor_name ', 'character_name ', 'character_name ', 'spoken_language ', 'person_name ', 'actor_name ', 'character_name ', 'spoken_language ', 'person_name ', 'actor_name ', 'actor_name ', 'actor_name ', 'character_name ']\n"
     ]
    }
   ],
   "source": [
    "names = ['K Nearest Neighbors','Decision Tree','Random Forest','Logistic Regression','SGD Classifier', 'Naive Bayes', 'SVM Linear']\n",
    "\n",
    "classifiers = [\n",
    "    KNeighborsClassifier(),\n",
    "    DecisionTreeClassifier(),\n",
    "    RandomForestClassifier(),\n",
    "    LogisticRegression(),\n",
    "    SGDClassifier(max_iter = 100),\n",
    "    MultinomialNB(),\n",
    "    \n",
    "    SVC(kernel = 'linear')\n",
    "]\n",
    "\n",
    "models = zip(names, classifiers)\n",
    "\n",
    "for name, classifier in models:\n",
    "    nltk_classifier = SklearnClassifier(classifier)\n",
    "    nltk_classifier.train(feature_set)\n",
    "    class_set = nltk_classifier.classify_many(nq_feature_set)\n",
    "    accuracy = nltk.classify.accuracy(nltk_classifier, test_feature_set) * 100\n",
    "    print(name, \"accuracy :\", accuracy)\n",
    "    print(class_set)\n",
    "    \n",
    "\n",
    "\n"
   ]
  },
  {
   "cell_type": "code",
   "execution_count": 43,
   "metadata": {},
   "outputs": [
    {
     "name": "stdout",
     "output_type": "stream",
     "text": [
      "['Hello', '?', 'Fine', '?', 'I', 'good', 'well', '.']\n"
     ]
    }
   ],
   "source": [
    "example_text = \"Hello how are you doing? Fine and you? I am good as well.\"\n",
    "\n",
    "words = word_tokenize(example_text)\n",
    "stop_words = set(stopwords.words(\"english\"))\n",
    "\n",
    "filtered_sentence = []\n",
    "\n",
    "for w in words:\n",
    "    if w not in stop_words:\n",
    "        filtered_sentence.append(w)\n",
    "        \n",
    "print(filtered_sentence)"
   ]
  },
  {
   "cell_type": "code",
   "execution_count": 37,
   "metadata": {},
   "outputs": [
    {
     "name": "stdout",
     "output_type": "stream",
     "text": [
      "goose\n"
     ]
    }
   ],
   "source": [
    "print(lemmatizer.lemmatize(\"geese\"))"
   ]
  },
  {
   "cell_type": "code",
   "execution_count": 16,
   "metadata": {},
   "outputs": [
    {
     "name": "stdout",
     "output_type": "stream",
     "text": [
      "[nltk_data] Downloading package punkt to\n",
      "[nltk_data]     C:\\Users\\Utilizador\\AppData\\Roaming\\nltk_data...\n",
      "[nltk_data]   Unzipping tokenizers\\punkt.zip.\n"
     ]
    },
    {
     "data": {
      "text/plain": [
       "True"
      ]
     },
     "execution_count": 16,
     "metadata": {},
     "output_type": "execute_result"
    }
   ],
   "source": [
    "nltk.download('punkt')"
   ]
  },
  {
   "cell_type": "code",
   "execution_count": 23,
   "metadata": {},
   "outputs": [
    {
     "name": "stdout",
     "output_type": "stream",
     "text": [
      "[nltk_data] Downloading package stopwords to\n",
      "[nltk_data]     C:\\Users\\Utilizador\\AppData\\Roaming\\nltk_data...\n",
      "[nltk_data]   Unzipping corpora\\stopwords.zip.\n"
     ]
    },
    {
     "data": {
      "text/plain": [
       "True"
      ]
     },
     "execution_count": 23,
     "metadata": {},
     "output_type": "execute_result"
    }
   ],
   "source": [
    "nltk.download('stopwords')"
   ]
  },
  {
   "cell_type": "code",
   "execution_count": 35,
   "metadata": {},
   "outputs": [
    {
     "name": "stdout",
     "output_type": "stream",
     "text": [
      "[nltk_data] Downloading package wordnet to\n",
      "[nltk_data]     C:\\Users\\Utilizador\\AppData\\Roaming\\nltk_data...\n",
      "[nltk_data]   Unzipping corpora\\wordnet.zip.\n"
     ]
    },
    {
     "data": {
      "text/plain": [
       "True"
      ]
     },
     "execution_count": 35,
     "metadata": {},
     "output_type": "execute_result"
    }
   ],
   "source": [
    "nltk.download('wordnet')"
   ]
  },
  {
   "cell_type": "code",
   "execution_count": 8,
   "metadata": {},
   "outputs": [
    {
     "name": "stdout",
     "output_type": "stream",
     "text": [
      "[nltk_data] Downloading package averaged_perceptron_tagger to\n",
      "[nltk_data]     C:\\Users\\Utilizador\\AppData\\Roaming\\nltk_data...\n",
      "[nltk_data]   Unzipping taggers\\averaged_perceptron_tagger.zip.\n"
     ]
    },
    {
     "data": {
      "text/plain": [
       "True"
      ]
     },
     "execution_count": 8,
     "metadata": {},
     "output_type": "execute_result"
    }
   ],
   "source": [
    "nltk.download('averaged_perceptron_tagger')"
   ]
  },
  {
   "cell_type": "code",
   "execution_count": 10,
   "metadata": {},
   "outputs": [
    {
     "name": "stdout",
     "output_type": "stream",
     "text": [
      "[nltk_data] Downloading package maxent_ne_chunker to\n",
      "[nltk_data]     C:\\Users\\Utilizador\\AppData\\Roaming\\nltk_data...\n",
      "[nltk_data]   Unzipping chunkers\\maxent_ne_chunker.zip.\n"
     ]
    },
    {
     "data": {
      "text/plain": [
       "True"
      ]
     },
     "execution_count": 10,
     "metadata": {},
     "output_type": "execute_result"
    }
   ],
   "source": [
    "nltk.download('maxent_ne_chunker')"
   ]
  },
  {
   "cell_type": "code",
   "execution_count": 12,
   "metadata": {},
   "outputs": [
    {
     "name": "stdout",
     "output_type": "stream",
     "text": [
      "[nltk_data] Downloading package words to\n",
      "[nltk_data]     C:\\Users\\Utilizador\\AppData\\Roaming\\nltk_data...\n",
      "[nltk_data]   Unzipping corpora\\words.zip.\n"
     ]
    },
    {
     "data": {
      "text/plain": [
       "True"
      ]
     },
     "execution_count": 12,
     "metadata": {},
     "output_type": "execute_result"
    }
   ],
   "source": [
    "nltk.download('words')"
   ]
  },
  {
   "cell_type": "code",
   "execution_count": null,
   "metadata": {},
   "outputs": [],
   "source": [
    "quest_train, quest_test, class_train, class_test = train_test_split(questoes, classes, test_size=0.3, random_state=0)\n",
    "\n",
    "print(classes.value_counts())\n",
    "\n",
    "encoder = LabelEncoder()\n",
    "Y = encoder.fit_transform(classes)\n"
   ]
  },
  {
   "cell_type": "code",
   "execution_count": 55,
   "metadata": {},
   "outputs": [
    {
     "name": "stdout",
     "output_type": "stream",
     "text": [
      "Where are movie you trying to find\n"
     ]
    }
   ],
   "source": [
    "cities = ['London', 'age of ultron', 'Birmingham']\n",
    "where = \"Where are age of ultron you trying to find\"\n",
    "for city in cities:\n",
    "    if city in where:\n",
    "        where = where.replace(city, \"movie\")\n",
    "        print(where)\n",
    "        break\n",
    "else:\n",
    "    print(\"I'm not to sure\")"
   ]
  },
  {
   "cell_type": "code",
   "execution_count": 18,
   "metadata": {},
   "outputs": [
    {
     "data": {
      "text/plain": [
       "'boy'"
      ]
     },
     "execution_count": 18,
     "metadata": {},
     "output_type": "execute_result"
    }
   ],
   "source": [
    "lemmatizer.lemmatize(\"boys\")"
   ]
  },
  {
   "cell_type": "code",
   "execution_count": 18,
   "metadata": {},
   "outputs": [
    {
     "name": "stdout",
     "output_type": "stream",
     "text": [
      "[{'W': False, 'h': False, 'a': True, 't': True, 'r': True, 'e': True, 'l': True, 'v': True, 'n': True, 'c': True, 'o': True, 's': False, 'm': False, 'i': False, '_': False, 'k': False, 'y': True, '?': False, 'd': True, 'f': False, 'g': False, 'u': False, 'p': False, \"'\": False, 'E': False, 'A': False, 'T': False, 'L': False, ':': False, 'F': False, 'w': False, '.': False, 'S': False, 'b': True, 'z': False, 'I': False, 'x': False, ',': False, '0': False, 'K': False}, {'W': False, 'h': True, 'a': True, 't': True, 'r': True, 'e': True, 'l': True, 'v': False, 'n': True, 'c': True, 'o': True, 's': False, 'm': False, 'i': True, '_': False, 'k': False, 'y': False, '?': False, 'd': True, 'f': True, 'g': True, 'u': False, 'p': False, \"'\": False, 'E': False, 'A': False, 'T': False, 'L': False, ':': False, 'F': False, 'w': False, '.': False, 'S': False, 'b': False, 'z': False, 'I': False, 'x': False, ',': False, '0': False, 'K': False}, {'W': False, 'h': True, 'a': True, 't': True, 'r': True, 'e': True, 'l': False, 'v': True, 'n': True, 'c': True, 'o': True, 's': True, 'm': True, 'i': True, '_': False, 'k': False, 'y': False, '?': False, 'd': False, 'f': False, 'g': False, 'u': False, 'p': False, \"'\": False, 'E': False, 'A': False, 'T': False, 'L': False, ':': False, 'F': False, 'w': False, '.': False, 'S': False, 'b': False, 'z': False, 'I': False, 'x': False, ',': False, '0': False, 'K': False}, {'W': False, 'h': False, 'a': True, 't': False, 'r': False, 'e': True, 'l': True, 'v': True, 'n': True, 'c': True, 'o': True, 's': True, 'm': False, 'i': False, '_': False, 'k': True, 'y': False, '?': False, 'd': False, 'f': False, 'g': True, 'u': True, 'p': True, \"'\": False, 'E': False, 'A': False, 'T': False, 'L': False, ':': False, 'F': False, 'w': False, '.': False, 'S': False, 'b': False, 'z': False, 'I': False, 'x': False, ',': False, '0': False, 'K': False}, {'W': False, 'h': False, 'a': True, 't': True, 'r': True, 'e': True, 'l': False, 'v': False, 'n': False, 'c': True, 'o': True, 's': True, 'm': True, 'i': True, '_': False, 'k': False, 'y': True, '?': False, 'd': True, 'f': True, 'g': True, 'u': True, 'p': False, \"'\": False, 'E': False, 'A': False, 'T': False, 'L': False, ':': False, 'F': False, 'w': False, '.': False, 'S': False, 'b': True, 'z': False, 'I': False, 'x': False, ',': False, '0': False, 'K': False}, {'W': False, 'h': False, 'a': True, 't': True, 'r': True, 'e': True, 'l': True, 'v': True, 'n': True, 'c': True, 'o': True, 's': True, 'm': False, 'i': False, '_': False, 'k': False, 'y': True, '?': False, 'd': False, 'f': False, 'g': True, 'u': False, 'p': False, \"'\": False, 'E': False, 'A': False, 'T': False, 'L': False, ':': False, 'F': False, 'w': False, '.': False, 'S': False, 'b': True, 'z': False, 'I': False, 'x': False, ',': False, '0': False, 'K': False}, {'W': False, 'h': True, 'a': True, 't': True, 'r': True, 'e': True, 'l': False, 'v': False, 'n': True, 'c': True, 'o': False, 's': True, 'm': False, 'i': True, '_': False, 'k': False, 'y': False, '?': False, 'd': True, 'f': False, 'g': True, 'u': False, 'p': True, \"'\": False, 'E': False, 'A': False, 'T': False, 'L': False, ':': False, 'F': False, 'w': False, '.': False, 'S': False, 'b': True, 'z': False, 'I': False, 'x': False, ',': False, '0': False, 'K': False}, {'W': False, 'h': True, 'a': True, 't': True, 'r': True, 'e': True, 'l': False, 'v': True, 'n': True, 'c': True, 'o': True, 's': True, 'm': True, 'i': True, '_': False, 'k': False, 'y': False, '?': False, 'd': True, 'f': False, 'g': True, 'u': False, 'p': True, \"'\": False, 'E': False, 'A': False, 'T': False, 'L': False, ':': False, 'F': False, 'w': False, '.': False, 'S': False, 'b': True, 'z': False, 'I': False, 'x': False, ',': False, '0': False, 'K': False}, {'W': False, 'h': False, 'a': True, 't': True, 'r': True, 'e': True, 'l': True, 'v': False, 'n': True, 'c': True, 'o': True, 's': True, 'm': False, 'i': True, '_': False, 'k': True, 'y': False, '?': False, 'd': True, 'f': False, 'g': True, 'u': True, 'p': True, \"'\": False, 'E': False, 'A': False, 'T': False, 'L': False, ':': False, 'F': False, 'w': False, '.': False, 'S': False, 'b': True, 'z': False, 'I': False, 'x': False, ',': False, '0': False, 'K': False}, {'W': False, 'h': False, 'a': True, 't': True, 'r': True, 'e': True, 'l': False, 'v': False, 'n': True, 'c': True, 'o': True, 's': True, 'm': True, 'i': True, '_': False, 'k': False, 'y': False, '?': False, 'd': True, 'f': True, 'g': True, 'u': True, 'p': True, \"'\": False, 'E': False, 'A': False, 'T': False, 'L': False, ':': False, 'F': False, 'w': False, '.': False, 'S': False, 'b': True, 'z': False, 'I': False, 'x': False, ',': False, '0': False, 'K': False}, {'W': False, 'h': False, 'a': True, 't': True, 'r': True, 'e': True, 'l': False, 'v': False, 'n': True, 'c': True, 'o': True, 's': True, 'm': True, 'i': True, '_': False, 'k': False, 'y': True, '?': False, 'd': True, 'f': False, 'g': True, 'u': True, 'p': True, \"'\": False, 'E': False, 'A': False, 'T': False, 'L': False, ':': False, 'F': False, 'w': False, '.': False, 'S': False, 'b': True, 'z': False, 'I': False, 'x': False, ',': False, '0': False, 'K': False}, {'W': False, 'h': False, 'a': True, 't': True, 'r': True, 'e': True, 'l': False, 'v': False, 'n': True, 'c': True, 'o': True, 's': True, 'm': True, 'i': True, '_': False, 'k': False, 'y': False, '?': False, 'd': True, 'f': False, 'g': True, 'u': False, 'p': True, \"'\": False, 'E': False, 'A': False, 'T': False, 'L': False, ':': False, 'F': False, 'w': False, '.': False, 'S': False, 'b': True, 'z': False, 'I': False, 'x': False, ',': False, '0': False, 'K': False}, {'W': False, 'h': False, 'a': True, 't': True, 'r': True, 'e': True, 'l': True, 'v': True, 'n': True, 'c': True, 'o': True, 's': True, 'm': False, 'i': True, '_': False, 'k': False, 'y': False, '?': False, 'd': True, 'f': False, 'g': True, 'u': False, 'p': True, \"'\": False, 'E': False, 'A': False, 'T': False, 'L': False, ':': False, 'F': False, 'w': False, '.': False, 'S': False, 'b': True, 'z': False, 'I': False, 'x': False, ',': False, '0': False, 'K': False}, {'W': False, 'h': False, 'a': True, 't': True, 'r': True, 'e': True, 'l': True, 'v': False, 'n': True, 'c': True, 'o': True, 's': True, 'm': False, 'i': True, '_': False, 'k': False, 'y': True, '?': False, 'd': True, 'f': False, 'g': True, 'u': False, 'p': True, \"'\": False, 'E': False, 'A': False, 'T': False, 'L': False, ':': False, 'F': False, 'w': False, '.': False, 'S': False, 'b': True, 'z': False, 'I': False, 'x': False, ',': False, '0': False, 'K': False}, {'W': False, 'h': True, 'a': True, 't': True, 'r': True, 'e': True, 'l': False, 'v': False, 'n': True, 'c': True, 'o': False, 's': True, 'm': False, 'i': True, '_': False, 'k': False, 'y': False, '?': False, 'd': True, 'f': False, 'g': True, 'u': False, 'p': True, \"'\": False, 'E': False, 'A': False, 'T': False, 'L': False, ':': False, 'F': False, 'w': False, '.': False, 'S': False, 'b': True, 'z': False, 'I': False, 'x': False, ',': False, '0': False, 'K': False}, {'W': False, 'h': True, 'a': True, 't': True, 'r': True, 'e': True, 'l': False, 'v': False, 'n': True, 'c': True, 'o': True, 's': True, 'm': False, 'i': True, '_': False, 'k': False, 'y': False, '?': False, 'd': True, 'f': True, 'g': True, 'u': True, 'p': True, \"'\": False, 'E': False, 'A': False, 'T': False, 'L': False, ':': False, 'F': False, 'w': False, '.': False, 'S': False, 'b': True, 'z': False, 'I': False, 'x': False, ',': False, '0': False, 'K': False}, {'W': False, 'h': False, 'a': True, 't': True, 'r': True, 'e': True, 'l': True, 'v': False, 'n': True, 'c': True, 'o': True, 's': True, 'm': False, 'i': True, '_': False, 'k': True, 'y': False, '?': False, 'd': True, 'f': False, 'g': True, 'u': True, 'p': True, \"'\": False, 'E': False, 'A': False, 'T': False, 'L': False, ':': False, 'F': False, 'w': False, '.': False, 'S': False, 'b': True, 'z': False, 'I': False, 'x': False, ',': False, '0': False, 'K': False}, {'W': False, 'h': False, 'a': True, 't': True, 'r': True, 'e': True, 'l': False, 'v': False, 'n': True, 'c': True, 'o': True, 's': True, 'm': True, 'i': True, '_': False, 'k': False, 'y': False, '?': False, 'd': True, 'f': True, 'g': True, 'u': True, 'p': True, \"'\": False, 'E': False, 'A': False, 'T': False, 'L': False, ':': False, 'F': False, 'w': False, '.': False, 'S': False, 'b': True, 'z': False, 'I': False, 'x': False, ',': False, '0': False, 'K': False}, {'W': False, 'h': False, 'a': True, 't': True, 'r': True, 'e': True, 'l': False, 'v': False, 'n': True, 'c': True, 'o': True, 's': True, 'm': False, 'i': True, '_': False, 'k': False, 'y': False, '?': False, 'd': True, 'f': False, 'g': True, 'u': False, 'p': True, \"'\": False, 'E': False, 'A': False, 'T': False, 'L': False, ':': False, 'F': False, 'w': False, '.': False, 'S': False, 'b': True, 'z': False, 'I': False, 'x': False, ',': False, '0': False, 'K': False}, {'W': False, 'h': False, 'a': True, 't': True, 'r': True, 'e': True, 'l': False, 'v': False, 'n': True, 'c': True, 'o': False, 's': True, 'm': False, 'i': True, '_': False, 'k': False, 'y': False, '?': False, 'd': True, 'f': False, 'g': True, 'u': False, 'p': True, \"'\": False, 'E': False, 'A': False, 'T': False, 'L': False, ':': False, 'F': False, 'w': False, '.': False, 'S': False, 'b': True, 'z': False, 'I': False, 'x': False, ',': False, '0': False, 'K': False}, {'W': False, 'h': False, 'a': True, 't': True, 'r': True, 'e': True, 'l': False, 'v': False, 'n': True, 'c': True, 'o': True, 's': True, 'm': True, 'i': True, '_': False, 'k': False, 'y': False, '?': False, 'd': True, 'f': False, 'g': True, 'u': False, 'p': True, \"'\": False, 'E': False, 'A': False, 'T': False, 'L': False, ':': False, 'F': False, 'w': False, '.': False, 'S': False, 'b': True, 'z': False, 'I': False, 'x': False, ',': False, '0': False, 'K': False}, {'W': False, 'h': False, 'a': True, 't': True, 'r': True, 'e': True, 'l': True, 'v': True, 'n': True, 'c': True, 'o': True, 's': True, 'm': False, 'i': True, '_': False, 'k': False, 'y': False, '?': False, 'd': True, 'f': False, 'g': True, 'u': False, 'p': True, \"'\": False, 'E': False, 'A': False, 'T': False, 'L': False, ':': False, 'F': False, 'w': False, '.': False, 'S': False, 'b': True, 'z': False, 'I': False, 'x': False, ',': False, '0': False, 'K': False}, {'W': False, 'h': False, 'a': True, 't': True, 'r': True, 'e': True, 'l': True, 'v': False, 'n': True, 'c': True, 'o': True, 's': True, 'm': False, 'i': True, '_': False, 'k': False, 'y': True, '?': False, 'd': True, 'f': False, 'g': True, 'u': False, 'p': True, \"'\": False, 'E': False, 'A': False, 'T': False, 'L': False, ':': False, 'F': False, 'w': False, '.': False, 'S': False, 'b': True, 'z': False, 'I': False, 'x': False, ',': False, '0': False, 'K': False}, {'W': False, 'h': True, 'a': True, 't': True, 'r': True, 'e': True, 'l': False, 'v': False, 'n': True, 'c': True, 'o': False, 's': True, 'm': False, 'i': True, '_': False, 'k': False, 'y': False, '?': False, 'd': True, 'f': False, 'g': True, 'u': False, 'p': True, \"'\": False, 'E': False, 'A': False, 'T': False, 'L': False, ':': False, 'F': False, 'w': False, '.': False, 'S': False, 'b': True, 'z': False, 'I': False, 'x': False, ',': False, '0': False, 'K': False}, {'W': False, 'h': True, 'a': True, 't': True, 'r': True, 'e': True, 'l': False, 'v': False, 'n': True, 'c': True, 'o': True, 's': True, 'm': False, 'i': True, '_': False, 'k': False, 'y': False, '?': False, 'd': True, 'f': True, 'g': True, 'u': True, 'p': True, \"'\": False, 'E': False, 'A': False, 'T': False, 'L': False, ':': False, 'F': False, 'w': False, '.': False, 'S': False, 'b': True, 'z': False, 'I': False, 'x': False, ',': False, '0': False, 'K': False}, {'W': False, 'h': False, 'a': True, 't': True, 'r': True, 'e': True, 'l': True, 'v': False, 'n': True, 'c': True, 'o': False, 's': True, 'm': False, 'i': True, '_': False, 'k': False, 'y': False, '?': False, 'd': True, 'f': False, 'g': True, 'u': True, 'p': True, \"'\": False, 'E': False, 'A': False, 'T': False, 'L': False, ':': False, 'F': False, 'w': False, '.': False, 'S': False, 'b': True, 'z': False, 'I': False, 'x': False, ',': False, '0': False, 'K': False}, {'W': False, 'h': False, 'a': True, 't': True, 'r': True, 'e': True, 'l': False, 'v': False, 'n': True, 'c': True, 'o': True, 's': True, 'm': True, 'i': True, '_': False, 'k': False, 'y': False, '?': False, 'd': True, 'f': True, 'g': True, 'u': True, 'p': True, \"'\": False, 'E': False, 'A': False, 'T': False, 'L': False, ':': False, 'F': False, 'w': False, '.': False, 'S': False, 'b': True, 'z': False, 'I': False, 'x': False, ',': False, '0': False, 'K': False}, {'W': False, 'h': False, 'a': True, 't': True, 'r': True, 'e': True, 'l': False, 'v': False, 'n': True, 'c': True, 'o': True, 's': True, 'm': False, 'i': True, '_': False, 'k': False, 'y': False, '?': False, 'd': True, 'f': False, 'g': True, 'u': False, 'p': True, \"'\": False, 'E': False, 'A': False, 'T': False, 'L': False, ':': False, 'F': False, 'w': False, '.': False, 'S': False, 'b': True, 'z': False, 'I': False, 'x': False, ',': False, '0': False, 'K': False}, {'W': False, 'h': False, 'a': True, 't': True, 'r': True, 'e': True, 'l': False, 'v': False, 'n': True, 'c': True, 'o': False, 's': True, 'm': False, 'i': True, '_': False, 'k': False, 'y': False, '?': False, 'd': True, 'f': False, 'g': True, 'u': False, 'p': True, \"'\": False, 'E': False, 'A': False, 'T': False, 'L': False, ':': False, 'F': False, 'w': False, '.': False, 'S': False, 'b': True, 'z': False, 'I': False, 'x': False, ',': False, '0': False, 'K': False}, {'W': False, 'h': True, 'a': True, 't': True, 'r': True, 'e': True, 'l': True, 'v': False, 'n': True, 'c': True, 'o': True, 's': True, 'm': True, 'i': True, '_': False, 'k': False, 'y': False, '?': False, 'd': True, 'f': False, 'g': True, 'u': True, 'p': False, \"'\": False, 'E': False, 'A': False, 'T': False, 'L': False, ':': False, 'F': False, 'w': False, '.': False, 'S': False, 'b': True, 'z': False, 'I': False, 'x': False, ',': False, '0': False, 'K': False}, {'W': False, 'h': True, 'a': True, 't': True, 'r': True, 'e': True, 'l': True, 'v': False, 'n': True, 'c': True, 'o': True, 's': True, 'm': True, 'i': True, '_': False, 'k': False, 'y': False, '?': False, 'd': True, 'f': False, 'g': True, 'u': True, 'p': False, \"'\": False, 'E': False, 'A': False, 'T': False, 'L': False, ':': False, 'F': False, 'w': False, '.': False, 'S': False, 'b': True, 'z': False, 'I': False, 'x': False, ',': False, '0': False, 'K': False}, {'W': False, 'h': True, 'a': True, 't': True, 'r': True, 'e': True, 'l': True, 'v': True, 'n': True, 'c': True, 'o': True, 's': True, 'm': True, 'i': True, '_': False, 'k': False, 'y': False, '?': False, 'd': True, 'f': False, 'g': True, 'u': True, 'p': False, \"'\": False, 'E': False, 'A': False, 'T': False, 'L': False, ':': False, 'F': False, 'w': False, '.': False, 'S': False, 'b': True, 'z': False, 'I': False, 'x': False, ',': False, '0': False, 'K': False}, {'W': False, 'h': True, 'a': True, 't': True, 'r': False, 'e': True, 'l': True, 'v': False, 'n': True, 'c': False, 'o': True, 's': True, 'm': True, 'i': True, '_': False, 'k': True, 'y': False, '?': False, 'd': True, 'f': False, 'g': True, 'u': True, 'p': True, \"'\": False, 'E': False, 'A': False, 'T': False, 'L': False, ':': False, 'F': False, 'w': False, '.': False, 'S': False, 'b': True, 'z': False, 'I': False, 'x': False, ',': False, '0': False, 'K': False}, {'W': False, 'h': True, 'a': True, 't': True, 'r': True, 'e': True, 'l': True, 'v': False, 'n': True, 'c': True, 'o': True, 's': True, 'm': True, 'i': True, '_': False, 'k': False, 'y': True, '?': False, 'd': True, 'f': False, 'g': True, 'u': True, 'p': False, \"'\": False, 'E': False, 'A': False, 'T': False, 'L': False, ':': False, 'F': False, 'w': False, '.': False, 'S': False, 'b': True, 'z': False, 'I': False, 'x': False, ',': False, '0': False, 'K': False}, {'W': False, 'h': True, 'a': True, 't': True, 'r': True, 'e': True, 'l': True, 'v': False, 'n': True, 'c': True, 'o': True, 's': True, 'm': True, 'i': True, '_': False, 'k': False, 'y': False, '?': False, 'd': True, 'f': False, 'g': True, 'u': True, 'p': False, \"'\": False, 'E': False, 'A': False, 'T': False, 'L': False, ':': False, 'F': False, 'w': False, '.': False, 'S': False, 'b': True, 'z': False, 'I': False, 'x': False, ',': False, '0': False, 'K': False}, {'W': False, 'h': True, 'a': True, 't': True, 'r': True, 'e': True, 'l': True, 'v': False, 'n': True, 'c': True, 'o': True, 's': True, 'm': True, 'i': True, '_': False, 'k': False, 'y': False, '?': False, 'd': True, 'f': False, 'g': True, 'u': True, 'p': False, \"'\": False, 'E': False, 'A': False, 'T': False, 'L': False, ':': False, 'F': False, 'w': False, '.': False, 'S': False, 'b': True, 'z': False, 'I': False, 'x': False, ',': False, '0': False, 'K': False}, {'W': False, 'h': True, 'a': True, 't': True, 'r': False, 'e': True, 'l': True, 'v': False, 'n': True, 'c': False, 'o': True, 's': True, 'm': True, 'i': True, '_': False, 'k': False, 'y': False, '?': False, 'd': True, 'f': False, 'g': True, 'u': True, 'p': False, \"'\": False, 'E': False, 'A': False, 'T': False, 'L': False, ':': False, 'F': False, 'w': False, '.': False, 'S': False, 'b': True, 'z': False, 'I': False, 'x': False, ',': False, '0': False, 'K': False}, {'W': False, 'h': True, 'a': True, 't': True, 'r': True, 'e': True, 'l': True, 'v': False, 'n': True, 'c': True, 'o': True, 's': True, 'm': True, 'i': True, '_': False, 'k': False, 'y': False, '?': False, 'd': True, 'f': True, 'g': True, 'u': True, 'p': False, \"'\": False, 'E': False, 'A': False, 'T': False, 'L': False, ':': False, 'F': False, 'w': False, '.': False, 'S': False, 'b': True, 'z': False, 'I': False, 'x': False, ',': False, '0': False, 'K': False}, {'W': False, 'h': True, 'a': True, 't': True, 'r': True, 'e': True, 'l': True, 'v': False, 'n': True, 'c': True, 'o': True, 's': True, 'm': True, 'i': True, '_': False, 'k': False, 'y': True, '?': False, 'd': True, 'f': False, 'g': True, 'u': True, 'p': True, \"'\": False, 'E': False, 'A': False, 'T': False, 'L': False, ':': False, 'F': False, 'w': False, '.': False, 'S': False, 'b': True, 'z': False, 'I': False, 'x': False, ',': False, '0': False, 'K': False}, {'W': False, 'h': True, 'a': True, 't': True, 'r': True, 'e': True, 'l': True, 'v': True, 'n': True, 'c': True, 'o': True, 's': True, 'm': True, 'i': True, '_': False, 'k': False, 'y': False, '?': False, 'd': True, 'f': False, 'g': True, 'u': True, 'p': False, \"'\": False, 'E': False, 'A': False, 'T': False, 'L': False, ':': False, 'F': False, 'w': False, '.': False, 'S': False, 'b': True, 'z': False, 'I': False, 'x': False, ',': False, '0': False, 'K': False}, {'W': False, 'h': True, 'a': True, 't': True, 'r': True, 'e': True, 'l': True, 'v': False, 'n': True, 'c': True, 'o': True, 's': True, 'm': True, 'i': True, '_': False, 'k': False, 'y': True, '?': False, 'd': True, 'f': False, 'g': True, 'u': True, 'p': True, \"'\": False, 'E': False, 'A': False, 'T': False, 'L': False, ':': False, 'F': False, 'w': False, '.': False, 'S': False, 'b': True, 'z': False, 'I': False, 'x': False, ',': False, '0': False, 'K': False}, {'W': False, 'h': True, 'a': True, 't': True, 'r': True, 'e': True, 'l': True, 'v': False, 'n': True, 'c': True, 'o': True, 's': True, 'm': True, 'i': True, '_': False, 'k': False, 'y': False, '?': False, 'd': True, 'f': False, 'g': True, 'u': True, 'p': False, \"'\": False, 'E': False, 'A': False, 'T': False, 'L': False, ':': False, 'F': False, 'w': False, '.': False, 'S': False, 'b': True, 'z': False, 'I': False, 'x': False, ',': False, '0': False, 'K': False}]\n"
     ]
    }
   ],
   "source": []
  },
  {
   "cell_type": "code",
   "execution_count": 67,
   "metadata": {},
   "outputs": [
    {
     "name": "stdout",
     "output_type": "stream",
     "text": [
      "I watched movie and I loved it.\n"
     ]
    }
   ],
   "source": [
    "movies_list = movies[0]\n",
    "mov_list = []\n",
    "\n",
    "for mov in movies_list:\n",
    "    mov_list.append(mov)\n",
    "    \n",
    "print(replace_keyword(\"I watched Avengers: Age of Ultron and I loved it.\", mov_list))\n",
    "\n"
   ]
  },
  {
   "cell_type": "code",
   "execution_count": 87,
   "metadata": {},
   "outputs": [
    {
     "data": {
      "text/plain": [
       "0                         Robinson\n",
       "1                          Abraxas\n",
       "2                            Adams\n",
       "3                        Ahluwalia\n",
       "4                         Anderson\n",
       "5                        Armstrong\n",
       "6                           Arthur\n",
       "7                          Babitch\n",
       "8                            Baker\n",
       "9                             Band\n",
       "10                            Barr\n",
       "11                      Barrington\n",
       "12                          Barrow\n",
       "13                          Baskin\n",
       "14                        Bjornsen\n",
       "15                           Black\n",
       "16                       Blutarski\n",
       "17                            Boca\n",
       "18                            Cage\n",
       "19                         Cameron\n",
       "20                           Capel\n",
       "21                          Carter\n",
       "22                        Charming\n",
       "23                        Charmont\n",
       "24                   Chevotarevich\n",
       "25                          Chopra\n",
       "26                           Clark\n",
       "27                            Cobb\n",
       "28                            Cole\n",
       "29                   Combat leader\n",
       "                   ...            \n",
       "71296                    Álex Vega\n",
       "71297               Álvaro Mangino\n",
       "71298                       Ángela\n",
       "71299                 Ángela Vidal\n",
       "71300                          Ása\n",
       "71301                  Áurea/Maria\n",
       "71302           Ägyptischer Fahrer\n",
       "71303               Älterer Soldat\n",
       "71304                      Édouard\n",
       "71305                        Éomer\n",
       "71306                        Éowyn\n",
       "71307           Éponine Thénardier\n",
       "71308                      Étienne\n",
       "71309                 Íñigo Balboa\n",
       "71310                          Óli\n",
       "71311                       Úrsula\n",
       "71312                 Über-Morlock\n",
       "71313           épicier d'Amandine\n",
       "71314                       Željko\n",
       "71315            ‘The Amazing’ Yen\n",
       "71316    “Frightening” Frank McCay\n",
       "71317                        巴克/鼬鼠\n",
       "71318                         閃電麥坤\n",
       "71319                         강연희 \n",
       "71320                          김휘 \n",
       "71321                         김희미 \n",
       "71322                          억조 \n",
       "71323                         오동춘 \n",
       "71324                         이유진 \n",
       "71325                         최민식 \n",
       "Name: 0, Length: 71326, dtype: object"
      ]
     },
     "execution_count": 87,
     "metadata": {},
     "output_type": "execute_result"
    }
   ],
   "source": [
    "key_dict['character'][0]"
   ]
  },
  {
   "cell_type": "code",
   "execution_count": 31,
   "metadata": {},
   "outputs": [
    {
     "name": "stdout",
     "output_type": "stream",
     "text": [
      "<re.Match object; span=(11, 19), match='Robinson'>\n"
     ]
    }
   ],
   "source": [
    "val = \"Robinson\"\n",
    "text = \"My name is Robinson James\"\n",
    "print(re.search(r'\\b{}\\b'.format(val),text))"
   ]
  },
  {
   "cell_type": "code",
   "execution_count": 34,
   "metadata": {},
   "outputs": [
    {
     "data": {
      "text/plain": [
       "'\\\\bWhat the #$*! Do We (K).now!?\\\\b'"
      ]
     },
     "execution_count": 34,
     "metadata": {},
     "output_type": "execute_result"
    }
   ],
   "source": [
    "(r'\\b{}\\b'.format(\"What the #$*! Do We (K).now!?\"))"
   ]
  },
  {
   "cell_type": "code",
   "execution_count": 39,
   "metadata": {},
   "outputs": [
    {
     "ename": "error",
     "evalue": "nothing to repeat at position 5",
     "output_type": "error",
     "traceback": [
      "\u001b[1;31m---------------------------------------------------------------------------\u001b[0m",
      "\u001b[1;31merror\u001b[0m                                     Traceback (most recent call last)",
      "\u001b[1;32m<ipython-input-39-a55a9bee7441>\u001b[0m in \u001b[0;36m<module>\u001b[1;34m()\u001b[0m\n\u001b[1;32m----> 1\u001b[1;33m \u001b[0mre\u001b[0m\u001b[1;33m.\u001b[0m\u001b[0msearch\u001b[0m\u001b[1;33m(\u001b[0m\u001b[1;34mr'\\b{}\\b'\u001b[0m\u001b[1;33m.\u001b[0m\u001b[0mformat\u001b[0m\u001b[1;33m(\u001b[0m\u001b[1;34m' #$*!'\u001b[0m\u001b[1;33m)\u001b[0m\u001b[1;33m,\u001b[0m\u001b[1;34m\"What the #$*! Do We (K).now!?\"\u001b[0m \u001b[1;33m)\u001b[0m\u001b[1;33m\u001b[0m\u001b[0m\n\u001b[0m",
      "\u001b[1;32m~\\Anaconda3\\lib\\re.py\u001b[0m in \u001b[0;36msearch\u001b[1;34m(pattern, string, flags)\u001b[0m\n\u001b[0;32m    181\u001b[0m     \"\"\"Scan through string looking for a match to the pattern, returning\n\u001b[0;32m    182\u001b[0m     a Match object, or None if no match was found.\"\"\"\n\u001b[1;32m--> 183\u001b[1;33m     \u001b[1;32mreturn\u001b[0m \u001b[0m_compile\u001b[0m\u001b[1;33m(\u001b[0m\u001b[0mpattern\u001b[0m\u001b[1;33m,\u001b[0m \u001b[0mflags\u001b[0m\u001b[1;33m)\u001b[0m\u001b[1;33m.\u001b[0m\u001b[0msearch\u001b[0m\u001b[1;33m(\u001b[0m\u001b[0mstring\u001b[0m\u001b[1;33m)\u001b[0m\u001b[1;33m\u001b[0m\u001b[0m\n\u001b[0m\u001b[0;32m    184\u001b[0m \u001b[1;33m\u001b[0m\u001b[0m\n\u001b[0;32m    185\u001b[0m \u001b[1;32mdef\u001b[0m \u001b[0msub\u001b[0m\u001b[1;33m(\u001b[0m\u001b[0mpattern\u001b[0m\u001b[1;33m,\u001b[0m \u001b[0mrepl\u001b[0m\u001b[1;33m,\u001b[0m \u001b[0mstring\u001b[0m\u001b[1;33m,\u001b[0m \u001b[0mcount\u001b[0m\u001b[1;33m=\u001b[0m\u001b[1;36m0\u001b[0m\u001b[1;33m,\u001b[0m \u001b[0mflags\u001b[0m\u001b[1;33m=\u001b[0m\u001b[1;36m0\u001b[0m\u001b[1;33m)\u001b[0m\u001b[1;33m:\u001b[0m\u001b[1;33m\u001b[0m\u001b[0m\n",
      "\u001b[1;32m~\\Anaconda3\\lib\\re.py\u001b[0m in \u001b[0;36m_compile\u001b[1;34m(pattern, flags)\u001b[0m\n\u001b[0;32m    284\u001b[0m     \u001b[1;32mif\u001b[0m \u001b[1;32mnot\u001b[0m \u001b[0msre_compile\u001b[0m\u001b[1;33m.\u001b[0m\u001b[0misstring\u001b[0m\u001b[1;33m(\u001b[0m\u001b[0mpattern\u001b[0m\u001b[1;33m)\u001b[0m\u001b[1;33m:\u001b[0m\u001b[1;33m\u001b[0m\u001b[0m\n\u001b[0;32m    285\u001b[0m         \u001b[1;32mraise\u001b[0m \u001b[0mTypeError\u001b[0m\u001b[1;33m(\u001b[0m\u001b[1;34m\"first argument must be string or compiled pattern\"\u001b[0m\u001b[1;33m)\u001b[0m\u001b[1;33m\u001b[0m\u001b[0m\n\u001b[1;32m--> 286\u001b[1;33m     \u001b[0mp\u001b[0m \u001b[1;33m=\u001b[0m \u001b[0msre_compile\u001b[0m\u001b[1;33m.\u001b[0m\u001b[0mcompile\u001b[0m\u001b[1;33m(\u001b[0m\u001b[0mpattern\u001b[0m\u001b[1;33m,\u001b[0m \u001b[0mflags\u001b[0m\u001b[1;33m)\u001b[0m\u001b[1;33m\u001b[0m\u001b[0m\n\u001b[0m\u001b[0;32m    287\u001b[0m     \u001b[1;32mif\u001b[0m \u001b[1;32mnot\u001b[0m \u001b[1;33m(\u001b[0m\u001b[0mflags\u001b[0m \u001b[1;33m&\u001b[0m \u001b[0mDEBUG\u001b[0m\u001b[1;33m)\u001b[0m\u001b[1;33m:\u001b[0m\u001b[1;33m\u001b[0m\u001b[0m\n\u001b[0;32m    288\u001b[0m         \u001b[1;32mif\u001b[0m \u001b[0mlen\u001b[0m\u001b[1;33m(\u001b[0m\u001b[0m_cache\u001b[0m\u001b[1;33m)\u001b[0m \u001b[1;33m>=\u001b[0m \u001b[0m_MAXCACHE\u001b[0m\u001b[1;33m:\u001b[0m\u001b[1;33m\u001b[0m\u001b[0m\n",
      "\u001b[1;32m~\\Anaconda3\\lib\\sre_compile.py\u001b[0m in \u001b[0;36mcompile\u001b[1;34m(p, flags)\u001b[0m\n\u001b[0;32m    762\u001b[0m     \u001b[1;32mif\u001b[0m \u001b[0misstring\u001b[0m\u001b[1;33m(\u001b[0m\u001b[0mp\u001b[0m\u001b[1;33m)\u001b[0m\u001b[1;33m:\u001b[0m\u001b[1;33m\u001b[0m\u001b[0m\n\u001b[0;32m    763\u001b[0m         \u001b[0mpattern\u001b[0m \u001b[1;33m=\u001b[0m \u001b[0mp\u001b[0m\u001b[1;33m\u001b[0m\u001b[0m\n\u001b[1;32m--> 764\u001b[1;33m         \u001b[0mp\u001b[0m \u001b[1;33m=\u001b[0m \u001b[0msre_parse\u001b[0m\u001b[1;33m.\u001b[0m\u001b[0mparse\u001b[0m\u001b[1;33m(\u001b[0m\u001b[0mp\u001b[0m\u001b[1;33m,\u001b[0m \u001b[0mflags\u001b[0m\u001b[1;33m)\u001b[0m\u001b[1;33m\u001b[0m\u001b[0m\n\u001b[0m\u001b[0;32m    765\u001b[0m     \u001b[1;32melse\u001b[0m\u001b[1;33m:\u001b[0m\u001b[1;33m\u001b[0m\u001b[0m\n\u001b[0;32m    766\u001b[0m         \u001b[0mpattern\u001b[0m \u001b[1;33m=\u001b[0m \u001b[1;32mNone\u001b[0m\u001b[1;33m\u001b[0m\u001b[0m\n",
      "\u001b[1;32m~\\Anaconda3\\lib\\sre_parse.py\u001b[0m in \u001b[0;36mparse\u001b[1;34m(str, flags, pattern)\u001b[0m\n\u001b[0;32m    928\u001b[0m \u001b[1;33m\u001b[0m\u001b[0m\n\u001b[0;32m    929\u001b[0m     \u001b[1;32mtry\u001b[0m\u001b[1;33m:\u001b[0m\u001b[1;33m\u001b[0m\u001b[0m\n\u001b[1;32m--> 930\u001b[1;33m         \u001b[0mp\u001b[0m \u001b[1;33m=\u001b[0m \u001b[0m_parse_sub\u001b[0m\u001b[1;33m(\u001b[0m\u001b[0msource\u001b[0m\u001b[1;33m,\u001b[0m \u001b[0mpattern\u001b[0m\u001b[1;33m,\u001b[0m \u001b[0mflags\u001b[0m \u001b[1;33m&\u001b[0m \u001b[0mSRE_FLAG_VERBOSE\u001b[0m\u001b[1;33m,\u001b[0m \u001b[1;36m0\u001b[0m\u001b[1;33m)\u001b[0m\u001b[1;33m\u001b[0m\u001b[0m\n\u001b[0m\u001b[0;32m    931\u001b[0m     \u001b[1;32mexcept\u001b[0m \u001b[0mVerbose\u001b[0m\u001b[1;33m:\u001b[0m\u001b[1;33m\u001b[0m\u001b[0m\n\u001b[0;32m    932\u001b[0m         \u001b[1;31m# the VERBOSE flag was switched on inside the pattern.  to be\u001b[0m\u001b[1;33m\u001b[0m\u001b[1;33m\u001b[0m\u001b[0m\n",
      "\u001b[1;32m~\\Anaconda3\\lib\\sre_parse.py\u001b[0m in \u001b[0;36m_parse_sub\u001b[1;34m(source, state, verbose, nested)\u001b[0m\n\u001b[0;32m    424\u001b[0m     \u001b[1;32mwhile\u001b[0m \u001b[1;32mTrue\u001b[0m\u001b[1;33m:\u001b[0m\u001b[1;33m\u001b[0m\u001b[0m\n\u001b[0;32m    425\u001b[0m         itemsappend(_parse(source, state, verbose, nested + 1,\n\u001b[1;32m--> 426\u001b[1;33m                            not nested and not items))\n\u001b[0m\u001b[0;32m    427\u001b[0m         \u001b[1;32mif\u001b[0m \u001b[1;32mnot\u001b[0m \u001b[0msourcematch\u001b[0m\u001b[1;33m(\u001b[0m\u001b[1;34m\"|\"\u001b[0m\u001b[1;33m)\u001b[0m\u001b[1;33m:\u001b[0m\u001b[1;33m\u001b[0m\u001b[0m\n\u001b[0;32m    428\u001b[0m             \u001b[1;32mbreak\u001b[0m\u001b[1;33m\u001b[0m\u001b[0m\n",
      "\u001b[1;32m~\\Anaconda3\\lib\\sre_parse.py\u001b[0m in \u001b[0;36m_parse\u001b[1;34m(source, state, verbose, nested, first)\u001b[0m\n\u001b[0;32m    649\u001b[0m             \u001b[1;32mif\u001b[0m \u001b[1;32mnot\u001b[0m \u001b[0mitem\u001b[0m \u001b[1;32mor\u001b[0m \u001b[0mitem\u001b[0m\u001b[1;33m[\u001b[0m\u001b[1;36m0\u001b[0m\u001b[1;33m]\u001b[0m\u001b[1;33m[\u001b[0m\u001b[1;36m0\u001b[0m\u001b[1;33m]\u001b[0m \u001b[1;32mis\u001b[0m \u001b[0mAT\u001b[0m\u001b[1;33m:\u001b[0m\u001b[1;33m\u001b[0m\u001b[0m\n\u001b[0;32m    650\u001b[0m                 raise source.error(\"nothing to repeat\",\n\u001b[1;32m--> 651\u001b[1;33m                                    source.tell() - here + len(this))\n\u001b[0m\u001b[0;32m    652\u001b[0m             \u001b[1;32mif\u001b[0m \u001b[0mitem\u001b[0m\u001b[1;33m[\u001b[0m\u001b[1;36m0\u001b[0m\u001b[1;33m]\u001b[0m\u001b[1;33m[\u001b[0m\u001b[1;36m0\u001b[0m\u001b[1;33m]\u001b[0m \u001b[1;32min\u001b[0m \u001b[0m_REPEATCODES\u001b[0m\u001b[1;33m:\u001b[0m\u001b[1;33m\u001b[0m\u001b[0m\n\u001b[0;32m    653\u001b[0m                 raise source.error(\"multiple repeat\",\n",
      "\u001b[1;31merror\u001b[0m: nothing to repeat at position 5"
     ]
    }
   ],
   "source": [
    "re.search(r'\\b{}\\b'.format(' #$*!'),\"What the #$*! Do We (K).now!?\" )"
   ]
  },
  {
   "cell_type": "markdown",
   "metadata": {},
   "source": [
    "# Versão para entregar"
   ]
  },
  {
   "cell_type": "code",
   "execution_count": 5,
   "metadata": {},
   "outputs": [],
   "source": [
    "import sys\n",
    "import pandas as pd\n",
    "import numpy as np\n",
    "import matplotlib.pyplot as plt\n",
    "import re\n",
    "import nltk\n",
    "from nltk import FreqDist, pos_tag, ne_chunk\n",
    "from nltk.corpus import stopwords\n",
    "from nltk.tokenize import word_tokenize, PunktSentenceTokenizer\n",
    "from nltk.stem import WordNetLemmatizer\n",
    "from nltk.classify.scikitlearn import SklearnClassifier\n",
    "from nltk.classify import accuracy\n",
    "from sklearn.neighbors import KNeighborsClassifier\n",
    "from sklearn.tree import DecisionTreeClassifier\n",
    "from sklearn.ensemble import RandomForestClassifier\n",
    "from sklearn.linear_model import LogisticRegression, SGDClassifier\n",
    "from sklearn.naive_bayes import MultinomialNB\n",
    "from sklearn.svm import SVC\n",
    "from sklearn.metrics import classification_report, accuracy_score, confusion_matrix\n",
    "\n",
    "df = pd.read_table(\"QuestoesConhecidas.txt\", header=None, encoding = 'utf-8')\n",
    "nq = pd.read_table(\"NovasQuestoes.txt\", header=None, encoding = 'utf-8')\n",
    "char_list = pd.read_table('recursos/list_characters.txt', sep=\"\\n\", header=None, encoding = 'utf-8')\n",
    "company_list = pd.read_table('recursos/list_companies.txt', header=None, encoding = 'utf-8')\n",
    "genre_list = pd.read_table('recursos/list_genres.txt', header=None, encoding = 'utf-8')\n",
    "job_list = pd.read_table('recursos/list_jobs.txt', header=None, encoding = 'utf-8')\n",
    "keyword_list = pd.read_table('recursos/list_keywords.txt', header=None, encoding = 'utf-8')\n",
    "movie_list = pd.read_table('recursos/list_movies.txt', header=None, encoding = 'utf-8')\n",
    "people_list = pd.read_table('recursos/list_people.txt', sep=\"\\n\", header=None, encoding = 'utf-8')\n",
    "\n",
    "\n",
    "Y = df[0]\n",
    "X = df[1]\n",
    "nq = nq[0]\n",
    "\n",
    "all_words = []\n",
    "\n",
    "lemmatizer = WordNetLemmatizer()\n",
    "stop_words = set(stopwords.words(\"english\"))\n",
    "tokenizer = PunktSentenceTokenizer()\n",
    "\n",
    "def remove_spaces(text):\n",
    "    return text.strip(' ')\n",
    "\n",
    "def clean_text(text):\n",
    "    text = text.lower()\n",
    "    text = re.sub(r\"what's\", \"what is \", text)\n",
    "    text = re.sub('\\W', ' ', text)\n",
    "    text = re.sub('\\s+', ' ', text)\n",
    "    text = text.strip(' ')\n",
    "    \n",
    "    return text\n",
    "\n",
    "def remove_stopwords(text):\n",
    "    filtered_text = []\n",
    "    for word in text:\n",
    "        if word not in stop_words:\n",
    "            filtered_text.append(word)\n",
    "    return filtered_text\n",
    "\n",
    "def lemmatize_words(text):\n",
    "    text = [lemmatizer.lemmatize(word) for word in text]\n",
    "    text = ' '.join(text)\n",
    "    return text\n",
    "\n",
    "\n",
    "def gather_all_words(text):\n",
    "    for words in text:\n",
    "        words = word_tokenize(words)\n",
    "        for word in words:\n",
    "            all_words.append(word)\n",
    "    return all_words\n",
    "\n",
    "def find_features(text):\n",
    "    features = {}\n",
    "    for word in word_features:\n",
    "        features[word] = (word in text)\n",
    "    return features\n",
    "\n",
    "def find_feature_set(data):\n",
    "    feature_set = []\n",
    "    for text, clss in data:\n",
    "        feature_set.append((find_features(text),clss))\n",
    "    return feature_set\n",
    "\n",
    "X = X.apply(lambda text : clean_text(text))\n",
    "X = X.apply(lambda text : word_tokenize(text))\n",
    "X = X.apply(lambda text : remove_stopwords(text))\n",
    "X = X.apply(lambda text : lemmatize_words(text))\n",
    "\n",
    "gather_all_words(X)\n",
    "        \n",
    "all_words_fd = FreqDist(all_words)\n",
    "word_features = list(all_words_fd.keys())\n",
    "quest = list(zip(X, Y))\n",
    "\n",
    "np.random.seed = 1       #seed para repetição\n",
    "np.random.shuffle(quest) #shuffling para garantir que as classes não ficam agrupadas\n",
    "\n",
    "feature_set = find_feature_set(quest)\n",
    "\n",
    "nq = nq.apply(lambda text : clean_text(text))\n",
    "nq = nq.apply(lambda text : word_tokenize(text))\n",
    "nq = nq.apply(lambda text : remove_stopwords(text))\n",
    "nq = nq.apply(lambda text : lemmatize_words(text))\n",
    "\n",
    "nq_feature_set = []\n",
    "for text in nq:\n",
    "    nq_feature_set.append(find_features(text))\n",
    "\n",
    "nltk_classifier = SklearnClassifier(LogisticRegression())\n",
    "nltk_classifier.train(feature_set)\n",
    "class_set = nltk_classifier.classify_many(nq_feature_set)\n",
    "\n",
    "    "
   ]
  },
  {
   "cell_type": "code",
   "execution_count": 6,
   "metadata": {},
   "outputs": [
    {
     "name": "stdout",
     "output_type": "stream",
     "text": [
      "['actor_name ', 'character_name ', 'character_name ', 'spoken_language ', 'person_name ', 'actor_name ', 'character_name ', 'character_name ', 'spoken_language ', 'person_name ', 'actor_name ', 'actor_name ', 'actor_name ', 'actor_name ', 'character_name ', 'character_name ', 'spoken_language ', 'person_name ', 'person_name ', 'person_name ', 'actor_name ', 'actor_name ', 'actor_name ', 'character_name ', 'character_name ', 'spoken_language ', 'person_name ', 'person_name ', 'person_name ', 'actor_name ', 'character_name ', 'character_name ', 'spoken_language ', 'person_name ', 'actor_name ', 'character_name ', 'spoken_language ', 'person_name ', 'original_title ', 'actor_name ', 'actor_name ', 'character_name ']\n"
     ]
    }
   ],
   "source": [
    "print(class_set)"
   ]
  },
  {
   "cell_type": "code",
   "execution_count": null,
   "metadata": {},
   "outputs": [],
   "source": []
  }
 ],
 "metadata": {
  "kernelspec": {
   "display_name": "Python 3",
   "language": "python",
   "name": "python3"
  },
  "language_info": {
   "codemirror_mode": {
    "name": "ipython",
    "version": 3
   },
   "file_extension": ".py",
   "mimetype": "text/x-python",
   "name": "python",
   "nbconvert_exporter": "python",
   "pygments_lexer": "ipython3",
   "version": "3.6.5"
  }
 },
 "nbformat": 4,
 "nbformat_minor": 2
}
